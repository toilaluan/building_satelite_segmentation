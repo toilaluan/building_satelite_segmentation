{
 "cells": [
  {
   "cell_type": "code",
   "execution_count": 18,
   "id": "6aa4b9d0-98bc-449e-8e05-34a529a47c1e",
   "metadata": {},
   "outputs": [],
   "source": [
    "import cv2\n",
    "import os\n",
    "import numpy as np\n",
    "import glob\n",
    "from tqdm import tqdm\n",
    "import shutil"
   ]
  },
  {
   "cell_type": "code",
   "execution_count": 19,
   "id": "7502dddf-a474-4b17-bbcb-0273ba5d18e4",
   "metadata": {},
   "outputs": [
    {
     "name": "stdout",
     "output_type": "stream",
     "text": [
      "64\n"
     ]
    }
   ],
   "source": [
    "image_root = '/mnt/data/RasterMask_v11/TrueOrtho'\n",
    "mask_root = '/mnt/data/RasterMask_v11/Raster_BldgMask'\n",
    "train_list_path = '/mnt/data/RasterMask_v11/ImageSet/train.txt'\n",
    "image_output = 'dataset/image'\n",
    "mask_output = 'dataset/mask/'\n",
    "shutil.rmtree(image_output)\n",
    "shutil.rmtree(mask_output)\n",
    "os.makedirs(image_output)\n",
    "os.makedirs(mask_output)\n",
    "with open(train_list_path) as f:\n",
    "    image_names = f.readlines()\n",
    "    image_names = [name.strip() for name in image_names]\n",
    "print(len(image_names))"
   ]
  },
  {
   "cell_type": "code",
   "execution_count": 21,
   "id": "c78107fb-5e85-499c-9994-1f8f303db598",
   "metadata": {},
   "outputs": [
    {
     "name": "stderr",
     "output_type": "stream",
     "text": [
      "  6%|███▊                                                         | 4/64 [00:31<07:47,  7.80s/it]"
     ]
    },
    {
     "name": "stdout",
     "output_type": "stream",
     "text": [
      "Empty scene!\n",
      "Empty scene!\n",
      "Empty scene!\n",
      "Empty scene!\n"
     ]
    },
    {
     "name": "stderr",
     "output_type": "stream",
     "text": [
      "  9%|█████▋                                                       | 6/64 [00:37<04:52,  5.04s/it]"
     ]
    },
    {
     "name": "stdout",
     "output_type": "stream",
     "text": [
      "Empty scene!\n",
      "Empty scene!\n",
      "Empty scene!\n",
      "Empty scene!\n",
      "Empty scene!\n",
      "Empty scene!\n",
      "Empty scene!\n",
      "Empty scene!\n",
      "Empty scene!\n",
      "Empty scene!\n",
      "Empty scene!\n",
      "Empty scene!\n",
      "Empty scene!\n",
      "Empty scene!\n",
      "Empty scene!\n",
      "Empty scene!\n",
      "Empty scene!\n",
      "Empty scene!\n",
      "Empty scene!\n",
      "Empty scene!\n",
      "Empty scene!\n",
      "Empty scene!\n",
      "Empty scene!\n"
     ]
    },
    {
     "name": "stderr",
     "output_type": "stream",
     "text": [
      " 19%|███████████▎                                                | 12/64 [01:21<06:23,  7.37s/it]"
     ]
    },
    {
     "name": "stdout",
     "output_type": "stream",
     "text": [
      "Empty scene!\n",
      "Empty scene!\n",
      "Empty scene!\n",
      "Empty scene!\n",
      "Empty scene!\n",
      "Empty scene!\n",
      "Empty scene!\n"
     ]
    },
    {
     "name": "stderr",
     "output_type": "stream",
     "text": [
      " 22%|█████████████▏                                              | 14/64 [01:26<03:57,  4.75s/it]"
     ]
    },
    {
     "name": "stdout",
     "output_type": "stream",
     "text": [
      "Empty scene!\n",
      "Empty scene!\n",
      "Empty scene!\n",
      "Empty scene!\n",
      "Empty scene!\n",
      "Empty scene!\n",
      "Empty scene!\n",
      "Empty scene!\n",
      "Empty scene!\n",
      "Empty scene!\n",
      "Empty scene!\n",
      "Empty scene!\n",
      "Empty scene!\n",
      "Empty scene!\n",
      "Empty scene!\n",
      "Empty scene!\n",
      "Empty scene!\n",
      "Empty scene!\n",
      "Empty scene!\n",
      "Empty scene!\n",
      "Empty scene!\n",
      "Empty scene!\n",
      "Empty scene!\n",
      "Empty scene!\n",
      "Empty scene!\n",
      "Empty scene!\n",
      "Empty scene!\n",
      "Empty scene!\n",
      "Empty scene!\n"
     ]
    },
    {
     "name": "stderr",
     "output_type": "stream",
     "text": [
      " 31%|██████████████████▊                                         | 20/64 [02:07<05:13,  7.11s/it]"
     ]
    },
    {
     "name": "stdout",
     "output_type": "stream",
     "text": [
      "Empty scene!\n",
      "Empty scene!\n",
      "Empty scene!\n",
      "Empty scene!\n",
      "Empty scene!\n",
      "Empty scene!\n",
      "Empty scene!\n",
      "Empty scene!\n"
     ]
    },
    {
     "name": "stderr",
     "output_type": "stream",
     "text": [
      " 33%|███████████████████▋                                        | 21/64 [02:11<04:28,  6.23s/it]"
     ]
    },
    {
     "name": "stdout",
     "output_type": "stream",
     "text": [
      "Empty scene!\n",
      "Empty scene!\n",
      "Empty scene!\n",
      "Empty scene!\n",
      "Empty scene!\n",
      "Empty scene!\n",
      "Empty scene!\n",
      "Empty scene!\n",
      "Empty scene!\n"
     ]
    },
    {
     "name": "stderr",
     "output_type": "stream",
     "text": [
      " 34%|████████████████████▋                                       | 22/64 [02:15<03:48,  5.44s/it]"
     ]
    },
    {
     "name": "stdout",
     "output_type": "stream",
     "text": [
      "Empty scene!\n",
      "Empty scene!\n",
      "Empty scene!\n",
      "Empty scene!\n"
     ]
    },
    {
     "name": "stderr",
     "output_type": "stream",
     "text": [
      " 38%|██████████████████████▌                                     | 24/64 [02:21<02:49,  4.23s/it]"
     ]
    },
    {
     "name": "stdout",
     "output_type": "stream",
     "text": [
      "Empty scene!\n",
      "Empty scene!\n",
      "Empty scene!\n",
      "Empty scene!\n",
      "Empty scene!\n",
      "Empty scene!\n",
      "Empty scene!\n",
      "Empty scene!\n",
      "Empty scene!\n",
      "Empty scene!\n",
      "Empty scene!\n",
      "Empty scene!\n",
      "Empty scene!\n",
      "Empty scene!\n",
      "Empty scene!\n",
      "Empty scene!\n",
      "Empty scene!\n",
      "Empty scene!\n",
      "Empty scene!\n",
      "Empty scene!\n",
      "Empty scene!\n",
      "Empty scene!\n",
      "Empty scene!\n"
     ]
    },
    {
     "name": "stderr",
     "output_type": "stream",
     "text": [
      " 45%|███████████████████████████▏                                | 29/64 [02:57<04:03,  6.97s/it]"
     ]
    },
    {
     "name": "stdout",
     "output_type": "stream",
     "text": [
      "Empty scene!\n"
     ]
    },
    {
     "name": "stderr",
     "output_type": "stream",
     "text": [
      " 50%|██████████████████████████████                              | 32/64 [03:20<03:58,  7.45s/it]"
     ]
    },
    {
     "name": "stdout",
     "output_type": "stream",
     "text": [
      "Empty scene!\n",
      "Empty scene!\n",
      "Empty scene!\n",
      "Empty scene!\n",
      "Empty scene!\n",
      "Empty scene!\n",
      "Empty scene!\n",
      "Empty scene!\n",
      "Empty scene!\n",
      "Empty scene!\n"
     ]
    },
    {
     "name": "stderr",
     "output_type": "stream",
     "text": [
      " 52%|██████████████████████████████▉                             | 33/64 [03:23<03:08,  6.09s/it]"
     ]
    },
    {
     "name": "stdout",
     "output_type": "stream",
     "text": [
      "Empty scene!\n",
      "Empty scene!\n",
      "Empty scene!\n",
      "Empty scene!\n",
      "Empty scene!\n",
      "Empty scene!\n",
      "Empty scene!\n",
      "Empty scene!\n",
      "Empty scene!\n",
      "Empty scene!\n",
      "Empty scene!\n",
      "Empty scene!\n",
      "Empty scene!\n",
      "Empty scene!\n",
      "Empty scene!\n"
     ]
    },
    {
     "name": "stderr",
     "output_type": "stream",
     "text": [
      " 64%|██████████████████████████████████████▍                     | 41/64 [04:25<03:04,  8.03s/it]"
     ]
    },
    {
     "name": "stdout",
     "output_type": "stream",
     "text": [
      "Empty scene!\n",
      "Empty scene!\n",
      "Empty scene!\n",
      "Empty scene!\n",
      "Empty scene!\n",
      "Empty scene!\n",
      "Empty scene!\n",
      "Empty scene!\n",
      "Empty scene!\n"
     ]
    },
    {
     "name": "stderr",
     "output_type": "stream",
     "text": [
      " 67%|████████████████████████████████████████▎                   | 43/64 [04:31<01:50,  5.26s/it]"
     ]
    },
    {
     "name": "stdout",
     "output_type": "stream",
     "text": [
      "Empty scene!\n",
      "Empty scene!\n",
      "Empty scene!\n",
      "Empty scene!\n",
      "Empty scene!\n",
      "Empty scene!\n",
      "Empty scene!\n",
      "Empty scene!\n",
      "Empty scene!\n",
      "Empty scene!\n",
      "Empty scene!\n",
      "Empty scene!\n",
      "Empty scene!\n",
      "Empty scene!\n",
      "Empty scene!\n"
     ]
    },
    {
     "name": "stderr",
     "output_type": "stream",
     "text": [
      " 70%|██████████████████████████████████████████▏                 | 45/64 [04:46<02:03,  6.49s/it]"
     ]
    },
    {
     "name": "stdout",
     "output_type": "stream",
     "text": [
      "Empty scene!\n",
      "Empty scene!\n"
     ]
    },
    {
     "name": "stderr",
     "output_type": "stream",
     "text": [
      " 77%|█████████████████████████████████████████████▉              | 49/64 [05:14<01:46,  7.07s/it]"
     ]
    },
    {
     "name": "stdout",
     "output_type": "stream",
     "text": [
      "Empty scene!\n",
      "Empty scene!\n",
      "Empty scene!\n",
      "Empty scene!\n",
      "Empty scene!\n",
      "Empty scene!\n",
      "Empty scene!\n",
      "Empty scene!\n"
     ]
    },
    {
     "name": "stderr",
     "output_type": "stream",
     "text": [
      " 80%|███████████████████████████████████████████████▊            | 51/64 [05:20<01:01,  4.72s/it]"
     ]
    },
    {
     "name": "stdout",
     "output_type": "stream",
     "text": [
      "Empty scene!\n",
      "Empty scene!\n",
      "Empty scene!\n",
      "Empty scene!\n",
      "Empty scene!\n",
      "Empty scene!\n",
      "Empty scene!\n",
      "Empty scene!\n",
      "Empty scene!\n",
      "Empty scene!\n",
      "Empty scene!\n",
      "Empty scene!\n",
      "Empty scene!\n",
      "Empty scene!\n",
      "Empty scene!\n",
      "Empty scene!\n",
      "Empty scene!\n",
      "Empty scene!\n",
      "Empty scene!\n",
      "Empty scene!\n",
      "Empty scene!\n",
      "Empty scene!\n",
      "Empty scene!\n",
      "Empty scene!\n",
      "Empty scene!\n",
      "Empty scene!\n",
      "Empty scene!\n",
      "Empty scene!\n"
     ]
    },
    {
     "name": "stderr",
     "output_type": "stream",
     "text": [
      " 84%|██████████████████████████████████████████████████▋         | 54/64 [05:38<01:00,  6.03s/it]"
     ]
    },
    {
     "name": "stdout",
     "output_type": "stream",
     "text": [
      "Empty scene!\n",
      "Empty scene!\n",
      "Empty scene!\n",
      "Empty scene!\n",
      "Empty scene!\n",
      "Empty scene!\n",
      "Empty scene!\n",
      "Empty scene!\n",
      "Empty scene!\n",
      "Empty scene!\n",
      "Empty scene!\n"
     ]
    },
    {
     "name": "stderr",
     "output_type": "stream",
     "text": [
      " 86%|███████████████████████████████████████████████████▌        | 55/64 [05:41<00:44,  4.99s/it]"
     ]
    },
    {
     "name": "stdout",
     "output_type": "stream",
     "text": [
      "Empty scene!\n",
      "Empty scene!\n",
      "Empty scene!\n",
      "Empty scene!\n",
      "Empty scene!\n",
      "Empty scene!\n",
      "Empty scene!\n"
     ]
    },
    {
     "name": "stderr",
     "output_type": "stream",
     "text": [
      " 88%|████████████████████████████████████████████████████▌       | 56/64 [05:45<00:37,  4.65s/it]"
     ]
    },
    {
     "name": "stdout",
     "output_type": "stream",
     "text": [
      "Empty scene!\n",
      "Empty scene!\n",
      "Empty scene!\n",
      "Empty scene!\n"
     ]
    },
    {
     "name": "stderr",
     "output_type": "stream",
     "text": [
      " 89%|█████████████████████████████████████████████████████▍      | 57/64 [05:51<00:35,  5.11s/it]"
     ]
    },
    {
     "name": "stdout",
     "output_type": "stream",
     "text": [
      "Empty scene!\n",
      "Empty scene!\n",
      "Empty scene!\n"
     ]
    },
    {
     "name": "stderr",
     "output_type": "stream",
     "text": [
      " 92%|███████████████████████████████████████████████████████▎    | 59/64 [05:59<00:21,  4.34s/it]"
     ]
    },
    {
     "name": "stdout",
     "output_type": "stream",
     "text": [
      "Empty scene!\n",
      "Empty scene!\n",
      "Empty scene!\n",
      "Empty scene!\n",
      "Empty scene!\n",
      "Empty scene!\n",
      "Empty scene!\n",
      "Empty scene!\n",
      "Empty scene!\n",
      "Empty scene!\n",
      "Empty scene!\n",
      "Empty scene!\n",
      "Empty scene!\n",
      "Empty scene!\n",
      "Empty scene!\n",
      "Empty scene!\n",
      "Empty scene!\n",
      "Empty scene!\n",
      "Empty scene!\n",
      "Empty scene!\n",
      "Empty scene!\n",
      "Empty scene!\n",
      "Empty scene!\n",
      "Empty scene!\n",
      "Empty scene!\n"
     ]
    },
    {
     "name": "stderr",
     "output_type": "stream",
     "text": [
      " 94%|████████████████████████████████████████████████████████▎   | 60/64 [06:02<00:16,  4.15s/it]"
     ]
    },
    {
     "name": "stdout",
     "output_type": "stream",
     "text": [
      "Empty scene!\n",
      "Empty scene!\n",
      "Empty scene!\n",
      "Empty scene!\n",
      "Empty scene!\n",
      "Empty scene!\n",
      "Empty scene!\n",
      "Empty scene!\n",
      "Empty scene!\n"
     ]
    },
    {
     "name": "stderr",
     "output_type": "stream",
     "text": [
      " 95%|█████████████████████████████████████████████████████████▏  | 61/64 [06:06<00:12,  4.03s/it]"
     ]
    },
    {
     "name": "stdout",
     "output_type": "stream",
     "text": [
      "Empty scene!\n",
      "Empty scene!\n",
      "Empty scene!\n",
      "Empty scene!\n",
      "Empty scene!\n",
      "Empty scene!\n",
      "Empty scene!\n"
     ]
    },
    {
     "name": "stderr",
     "output_type": "stream",
     "text": [
      " 98%|███████████████████████████████████████████████████████████ | 63/64 [06:12<00:03,  3.47s/it]"
     ]
    },
    {
     "name": "stdout",
     "output_type": "stream",
     "text": [
      "Empty scene!\n",
      "Empty scene!\n",
      "Empty scene!\n",
      "Empty scene!\n",
      "Empty scene!\n",
      "Empty scene!\n",
      "Empty scene!\n",
      "Empty scene!\n",
      "Empty scene!\n",
      "Empty scene!\n",
      "Empty scene!\n",
      "Empty scene!\n",
      "Empty scene!\n",
      "Empty scene!\n",
      "Empty scene!\n"
     ]
    },
    {
     "name": "stderr",
     "output_type": "stream",
     "text": [
      "100%|████████████████████████████████████████████████████████████| 64/64 [06:14<00:00,  5.85s/it]"
     ]
    },
    {
     "name": "stdout",
     "output_type": "stream",
     "text": [
      "Empty scene!\n",
      "Empty scene!\n",
      "Empty scene!\n",
      "Empty scene!\n",
      "Empty scene!\n",
      "Empty scene!\n",
      "Empty scene!\n",
      "Empty scene!\n",
      "Empty scene!\n",
      "Empty scene!\n",
      "Empty scene!\n",
      "Empty scene!\n",
      "Empty scene!\n",
      "Empty scene!\n",
      "Empty scene!\n",
      "Empty scene!\n"
     ]
    },
    {
     "name": "stderr",
     "output_type": "stream",
     "text": [
      "\n"
     ]
    }
   ],
   "source": [
    "DIVISION = 4\n",
    "total_sub_images = []\n",
    "total_sub_image_names = []\n",
    "for image_name in tqdm(image_names):\n",
    "    image_path = os.path.join(image_root, image_name)\n",
    "    mask_path = os.path.join(mask_root, image_name.replace('Ortho', 'BldgMask'))\n",
    "    image = cv2.imread(image_path)\n",
    "    mask = cv2.imread(mask_path, 0)\n",
    "    W, H, C = image.shape\n",
    "    sub_height, sub_width = H // DIVISION, W // DIVISION\n",
    "    sub_images = []\n",
    "    sub_image_names = []\n",
    "    sub_masks = []\n",
    "    for i in range(4):\n",
    "        for j in range(4):\n",
    "            # Define the coordinates for the top-left and bottom-right corners of the sub-image\n",
    "            top_left_x = j * sub_width\n",
    "            top_left_y = i * sub_height\n",
    "            bottom_right_x = (j + 1) * sub_width\n",
    "            bottom_right_y = (i + 1) * sub_height\n",
    "\n",
    "            # Crop the sub-image from the original image\n",
    "            sub_image = image[top_left_y:bottom_right_y, top_left_x:bottom_right_x]\n",
    "            sub_mask = mask[top_left_y:bottom_right_y, top_left_x:bottom_right_x]\n",
    "            sub_mask = sub_mask > 0\n",
    "            if np.sum(sub_mask) == 0:\n",
    "                print(\"Empty scene!\")\n",
    "                continue\n",
    "                \n",
    "            sub_mask = sub_mask.astype(np.uint8)\n",
    "            # Append the sub-image to the list\n",
    "            sub_images.append(sub_image)\n",
    "            sub_masks.append(sub_mask)\n",
    "            sub_image_names.append(os.path.basename(image_path).replace('.tif', f'_{i}_{j}.png'))\n",
    "    for sub_image, sub_image_name, sub_mask in zip(sub_images, sub_image_names, sub_masks):\n",
    "        image_save_path = os.path.join(image_output, sub_image_name)\n",
    "        mask_save_path = os.path.join(mask_output, sub_image_name)\n",
    "        cv2.imwrite(image_save_path, sub_image)\n",
    "        cv2.imwrite(mask_save_path, sub_mask)"
   ]
  },
  {
   "cell_type": "code",
   "execution_count": null,
   "id": "b3cbd26b-d602-4a4c-acb0-f7d3a0f56b8e",
   "metadata": {},
   "outputs": [],
   "source": []
  }
 ],
 "metadata": {
  "kernelspec": {
   "display_name": "Python 3 (ipykernel)",
   "language": "python",
   "name": "python3"
  },
  "language_info": {
   "codemirror_mode": {
    "name": "ipython",
    "version": 3
   },
   "file_extension": ".py",
   "mimetype": "text/x-python",
   "name": "python",
   "nbconvert_exporter": "python",
   "pygments_lexer": "ipython3",
   "version": "3.10.9"
  }
 },
 "nbformat": 4,
 "nbformat_minor": 5
}
