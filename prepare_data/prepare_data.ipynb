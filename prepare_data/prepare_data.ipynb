{
 "cells": [
  {
   "cell_type": "code",
   "execution_count": 22,
   "id": "6aa4b9d0-98bc-449e-8e05-34a529a47c1e",
   "metadata": {},
   "outputs": [],
   "source": [
    "import cv2\n",
    "import os\n",
    "import numpy as np\n",
    "import glob\n",
    "from tqdm import tqdm\n",
    "import shutil"
   ]
  },
  {
   "cell_type": "code",
   "execution_count": 24,
   "id": "7502dddf-a474-4b17-bbcb-0273ba5d18e4",
   "metadata": {},
   "outputs": [
    {
     "name": "stdout",
     "output_type": "stream",
     "text": [
      "21\n"
     ]
    }
   ],
   "source": [
    "mode = 'val'\n",
    "image_root = '/mnt/data/RasterMask_v11/TrueOrtho'\n",
    "mask_root = '/mnt/data/RasterMask_v11/Raster_BldgMask'\n",
    "train_list_path = f'/mnt/data/RasterMask_v11/ImageSet/{mode}.txt'\n",
    "image_output = f'dataset/{mode}/image'\n",
    "mask_output = f'dataset/{mode}/mask/'\n",
    "shutil.rmtree(image_output, ignore_errors=True)\n",
    "shutil.rmtree(mask_output, ignore_errors=True)\n",
    "os.makedirs(image_output)\n",
    "os.makedirs(mask_output)\n",
    "with open(train_list_path) as f:\n",
    "    image_names = f.readlines()\n",
    "    image_names = [name.strip() for name in image_names]\n",
    "print(len(image_names))"
   ]
  },
  {
   "cell_type": "code",
   "execution_count": 25,
   "id": "c78107fb-5e85-499c-9994-1f8f303db598",
   "metadata": {},
   "outputs": [
    {
     "name": "stderr",
     "output_type": "stream",
     "text": [
      " 19%|███████████▌                                                 | 4/21 [00:32<02:19,  8.23s/it]"
     ]
    },
    {
     "name": "stdout",
     "output_type": "stream",
     "text": [
      "Empty scene!\n",
      "Empty scene!\n",
      "Empty scene!\n",
      "Empty scene!\n",
      "Empty scene!\n",
      "Empty scene!\n",
      "Empty scene!\n",
      "Empty scene!\n",
      "Empty scene!\n",
      "Empty scene!\n",
      "Empty scene!\n"
     ]
    },
    {
     "name": "stderr",
     "output_type": "stream",
     "text": [
      " 24%|██████████████▌                                              | 5/21 [00:35<01:40,  6.27s/it]"
     ]
    },
    {
     "name": "stdout",
     "output_type": "stream",
     "text": [
      "Empty scene!\n",
      "Empty scene!\n",
      "Empty scene!\n",
      "Empty scene!\n",
      "Empty scene!\n",
      "Empty scene!\n",
      "Empty scene!\n",
      "Empty scene!\n"
     ]
    },
    {
     "name": "stderr",
     "output_type": "stream",
     "text": [
      " 57%|██████████████████████████████████▎                         | 12/21 [01:29<01:13,  8.15s/it]"
     ]
    },
    {
     "name": "stdout",
     "output_type": "stream",
     "text": [
      "Empty scene!\n",
      "Empty scene!\n",
      "Empty scene!\n",
      "Empty scene!\n",
      "Empty scene!\n",
      "Empty scene!\n",
      "Empty scene!\n",
      "Empty scene!\n",
      "Empty scene!\n",
      "Empty scene!\n"
     ]
    },
    {
     "name": "stderr",
     "output_type": "stream",
     "text": [
      " 62%|█████████████████████████████████████▏                      | 13/21 [01:32<00:52,  6.58s/it]"
     ]
    },
    {
     "name": "stdout",
     "output_type": "stream",
     "text": [
      "Empty scene!\n",
      "Empty scene!\n",
      "Empty scene!\n",
      "Empty scene!\n",
      "Empty scene!\n",
      "Empty scene!\n"
     ]
    },
    {
     "name": "stderr",
     "output_type": "stream",
     "text": [
      " 90%|██████████████████████████████████████████████████████▎     | 19/21 [02:18<00:15,  7.86s/it]"
     ]
    },
    {
     "name": "stdout",
     "output_type": "stream",
     "text": [
      "Empty scene!\n",
      "Empty scene!\n",
      "Empty scene!\n",
      "Empty scene!\n"
     ]
    },
    {
     "name": "stderr",
     "output_type": "stream",
     "text": [
      " 95%|█████████████████████████████████████████████████████████▏  | 20/21 [02:23<00:07,  7.18s/it]"
     ]
    },
    {
     "name": "stdout",
     "output_type": "stream",
     "text": [
      "Empty scene!\n",
      "Empty scene!\n",
      "Empty scene!\n",
      "Empty scene!\n",
      "Empty scene!\n",
      "Empty scene!\n",
      "Empty scene!\n",
      "Empty scene!\n",
      "Empty scene!\n",
      "Empty scene!\n",
      "Empty scene!\n",
      "Empty scene!\n",
      "Empty scene!\n"
     ]
    },
    {
     "name": "stderr",
     "output_type": "stream",
     "text": [
      "100%|████████████████████████████████████████████████████████████| 21/21 [02:25<00:00,  6.95s/it]\n"
     ]
    }
   ],
   "source": [
    "DIVISION = 4\n",
    "total_sub_images = []\n",
    "total_sub_image_names = []\n",
    "for image_name in tqdm(image_names):\n",
    "    image_path = os.path.join(image_root, image_name)\n",
    "    mask_path = os.path.join(mask_root, image_name.replace('Ortho', 'BldgMask'))\n",
    "    image = cv2.imread(image_path)\n",
    "    mask = cv2.imread(mask_path, 0)\n",
    "    W, H, C = image.shape\n",
    "    sub_height, sub_width = H // DIVISION, W // DIVISION\n",
    "    sub_images = []\n",
    "    sub_image_names = []\n",
    "    sub_masks = []\n",
    "    for i in range(4):\n",
    "        for j in range(4):\n",
    "            # Define the coordinates for the top-left and bottom-right corners of the sub-image\n",
    "            top_left_x = j * sub_width\n",
    "            top_left_y = i * sub_height\n",
    "            bottom_right_x = (j + 1) * sub_width\n",
    "            bottom_right_y = (i + 1) * sub_height\n",
    "\n",
    "            # Crop the sub-image from the original image\n",
    "            sub_image = image[top_left_y:bottom_right_y, top_left_x:bottom_right_x]\n",
    "            sub_mask = mask[top_left_y:bottom_right_y, top_left_x:bottom_right_x]\n",
    "            sub_mask = sub_mask > 0\n",
    "            if np.sum(sub_mask) == 0:\n",
    "                print(\"Empty scene!\")\n",
    "                continue\n",
    "                \n",
    "            sub_mask = sub_mask.astype(np.uint8)\n",
    "            # Append the sub-image to the list\n",
    "            sub_images.append(sub_image)\n",
    "            sub_masks.append(sub_mask)\n",
    "            sub_image_names.append(os.path.basename(image_path).replace('.tif', f'_{i}_{j}.png'))\n",
    "    for sub_image, sub_image_name, sub_mask in zip(sub_images, sub_image_names, sub_masks):\n",
    "        image_save_path = os.path.join(image_output, sub_image_name)\n",
    "        mask_save_path = os.path.join(mask_output, sub_image_name)\n",
    "        cv2.imwrite(image_save_path, sub_image)\n",
    "        cv2.imwrite(mask_save_path, sub_mask)"
   ]
  },
  {
   "cell_type": "code",
   "execution_count": null,
   "id": "b3cbd26b-d602-4a4c-acb0-f7d3a0f56b8e",
   "metadata": {},
   "outputs": [],
   "source": []
  }
 ],
 "metadata": {
  "kernelspec": {
   "display_name": "Python 3 (ipykernel)",
   "language": "python",
   "name": "python3"
  },
  "language_info": {
   "codemirror_mode": {
    "name": "ipython",
    "version": 3
   },
   "file_extension": ".py",
   "mimetype": "text/x-python",
   "name": "python",
   "nbconvert_exporter": "python",
   "pygments_lexer": "ipython3",
   "version": "3.10.9"
  }
 },
 "nbformat": 4,
 "nbformat_minor": 5
}
